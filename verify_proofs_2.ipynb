{
 "cells": [
  {
   "cell_type": "code",
   "execution_count": 119,
   "metadata": {
    "collapsed": true
   },
   "outputs": [],
   "source": [
    "import re\n",
    "import pandas as pd\n",
    "from new_env import *\n",
    "import json\n",
    "import pickle"
   ]
  },
  {
   "cell_type": "code",
   "execution_count": 120,
   "outputs": [],
   "source": [
    "from torch_geometric.loader import DataLoader"
   ],
   "metadata": {
    "collapsed": false
   }
  },
  {
   "cell_type": "code",
   "execution_count": 121,
   "outputs": [],
   "source": [
    "with open(\"gnn_induct_agent_replays.json\") as f:\n",
    "    gnn_reps = json.load(f)"
   ],
   "metadata": {
    "collapsed": false
   }
  },
  {
   "cell_type": "code",
   "execution_count": 122,
   "outputs": [],
   "source": [
    "with open(\"vanilla_agent_replays.json\") as f:\n",
    "    vanilla_reps = json.load(f)"
   ],
   "metadata": {
    "collapsed": false
   }
  },
  {
   "cell_type": "code",
   "execution_count": 123,
   "outputs": [],
   "source": [
    "with open(\"transformer_agent_replays.json\") as f:\n",
    "    transformer_reps = json.load(f)"
   ],
   "metadata": {
    "collapsed": false
   }
  },
  {
   "cell_type": "code",
   "execution_count": 124,
   "outputs": [],
   "source": [
    "with open(\"include_probability.json\") as f:\n",
    "    db = json.load(f)\n",
    "\n",
    "reverse_database = {(value[0], value[1]) : key for key, value in db.items()}\n"
   ],
   "metadata": {
    "collapsed": false
   }
  },
  {
   "cell_type": "code",
   "execution_count": 125,
   "outputs": [],
   "source": [
    "hists = [gnn_reps[key][1] for key in gnn_reps.keys()]"
   ],
   "metadata": {
    "collapsed": false
   }
  },
  {
   "cell_type": "code",
   "execution_count": 126,
   "outputs": [],
   "source": [
    "def hist_to_tacs(hist):\n",
    "    tacs = [step['by_tactic'] for step in hist if step['by_tactic'] != '']\n",
    "    return tacs"
   ],
   "metadata": {
    "collapsed": false
   }
  },
  {
   "cell_type": "code",
   "execution_count": 127,
   "outputs": [],
   "source": [
    "def hist_valid(hist):\n",
    "    goal = hist[0]['content'][0]['polished']['goal']\n",
    "    db[goal]\n",
    "    allowed_theories = list(set(re.findall(r'C\\$(\\w+)\\$ ', goal)))\n",
    "    #allowed_theories = [th + \"Theory\" for th in allowed_theories if th != \"min\"]\n",
    "    goal_theory = db[goal][0]\n",
    "    # print (db[goal])\n",
    "    # print (goal_theory)\n",
    "    tacs = hist_to_tacs(hist)\n",
    "    goal_th_args = []\n",
    "    # print (tacs)\n",
    "    for tac in tacs:\n",
    "        if goal_theory in tac:\n",
    "            args = tac.split(goal_theory + \"Theory\")[1:]\n",
    "            for arg in args:\n",
    "                if \",\" in arg:\n",
    "                    goal_th_args.append(arg.split(\",\")[0][1:])\n",
    "\n",
    "                else:\n",
    "                    goal_th_args.append(arg[1:][:-1])\n",
    "\n",
    "    errs = 0\n",
    "    wtfs = 0\n",
    "    count = 0\n",
    "    print (goal_th_args, tacs, goal, db[goal])\n",
    "    for arg in goal_th_args:\n",
    "        for key, value in db.items():\n",
    "            if db[key][1] == arg and db[key][0] == goal_theory:\n",
    "                # print (db[key])\n",
    "                count += 1\n",
    "                #ensure there's no invalid arguments\n",
    "                print (arg, db[goal], db[key])\n",
    "                if int(db[key][2]) >= int(db[goal][2]) and db[key][0] == goal_theory:\n",
    "                    wtfs += 1\n",
    "    #                 print (db[goal])\n",
    "    #                 print (allowed_theories)\n",
    "    #                 print (tacs)\n",
    "\n",
    "    if count != len(goal_th_args):\n",
    "        # print (count, len(goal_th_args))\n",
    "        errs += 1\n",
    "        try:\n",
    "            [reverse_database[(goal_theory, arg)] for arg in goal_th_args]\n",
    "            print (\"Count error\")\n",
    "            print (count, len(goal_th_args))\n",
    "            print (count < len(goal_th_args))\n",
    "        except:\n",
    "            print (\"cant find...\")\n",
    "            print (tacs, db[goal])\n",
    "\n",
    "        # print (tacs)\n",
    "        # print (db[goal])\n",
    "    return goal_th_args, errs, wtfs"
   ],
   "metadata": {
    "collapsed": false
   }
  },
  {
   "cell_type": "code",
   "execution_count": 457,
   "outputs": [],
   "source": [
    "#check whether history from replays forms valid proofs (check the arguments are valid)\n",
    "# e = 0\n",
    "# w = 0\n",
    "# for hist in hists:\n",
    "#     args, errs, wtfs = hist_valid(hist)\n",
    "#     e += errs\n",
    "#     w += wtfs\n",
    "\n"
   ],
   "metadata": {
    "collapsed": false
   }
  },
  {
   "cell_type": "code",
   "execution_count": 458,
   "outputs": [],
   "source": [
    "# e (number of count errors) is nonzero, so some arguments can't be found in the database (only a few cases of this though) e.g. below"
   ],
   "metadata": {
    "collapsed": false
   }
  },
  {
   "cell_type": "code",
   "execution_count": 2,
   "outputs": [],
   "source": [
    "# No \"EVERY2_APPEND\" argument even though it's found in the replay\n",
    "# for key, value in db.items():\n",
    "#     if value[0] == \"rich_list\":\n",
    "#         print (value)for key, value in db.items():\n",
    "#     if value[1] == \"EVERY2_APPEND\":\n",
    "#         print (value)"
   ],
   "metadata": {
    "collapsed": false
   }
  },
  {
   "cell_type": "code",
   "execution_count": 3,
   "outputs": [],
   "source": [
    "# vanilla_hists = [vanilla_reps[key][1] for key in vanilla_reps.keys()]\n",
    "# e = 0\n",
    "# w = 0\n",
    "# for hist in vanilla_hists:\n",
    "#     args, errs, wtfs = hist_valid(hist)\n",
    "#     e += errs\n",
    "#     w += wtfs"
   ],
   "metadata": {
    "collapsed": false
   }
  },
  {
   "cell_type": "code",
   "execution_count": 108,
   "outputs": [],
   "source": [
    "with open(\"traces/final/gnn_final_1040.pk\", \"rb\") as f:\n",
    "    gnn_proved = pickle.load(f)\n",
    "\n",
    "with open(\"traces/final/vanilla_final_1009.pk\", \"rb\") as f:\n",
    "    vanilla_proved = pickle.load(f)\n",
    "\n",
    "with open(\"traces/final/transformer_prove_count_1007_it.pk\", \"rb\") as f:\n",
    "    transformer_proved = pickle.load(f)\n"
   ],
   "metadata": {
    "collapsed": false
   }
  },
  {
   "cell_type": "code",
   "execution_count": 155,
   "outputs": [],
   "source": [
    "import pandas as pd\n",
    "\n",
    "def plot_multiple_moving_averages(data_dict, title=\"Plot\", window_size=20, dir=None):\n",
    "    for label, data in data_dict.items():\n",
    "        df = pd.DataFrame(data, columns=['values'])\n",
    "        rolling_mean = df['values'].rolling(window=window_size).mean()\n",
    "        rolling_std = df['values'].rolling(window=window_size).std()\n",
    "        # plt.plot(df['values'], label=label)\n",
    "        plt.plot(rolling_mean, label=f\"{label}\")# moving average\")\n",
    "        plt.fill_between(df.index, rolling_mean-rolling_std, rolling_mean+rolling_std, color='gray', alpha=0.2)#, label=f\"{label} standard deviation\")\n",
    "    plt.legend()\n",
    "    plt.title(title)\n",
    "    plt.show()\n",
    "    if dir:\n",
    "        plt.savefig(title)\n",
    "\n",
    "    return\n",
    "\n"
   ],
   "metadata": {
    "collapsed": false
   }
  },
  {
   "cell_type": "code",
   "execution_count": 156,
   "outputs": [
    {
     "data": {
      "text/plain": "<Figure size 640x480 with 1 Axes>",
      "image/png": "[encoded data removed]"
     },
     "metadata": {},
     "output_type": "display_data"
    }
   ],
   "source": [
    "import matplotlib.pyplot as plt\n",
    "\n",
    "data_dict = {\"GNN\": gnn_proved[:1000], \"Transformer\": transformer_proved[:1000], \"Vanilla\": vanilla_proved[:1000]}\n",
    "\n",
    "plot_multiple_moving_averages(data_dict, title=\"Training goals proved for TacticZero with GNN, Transformer and Vanilla Encoding\")\n"
   ],
   "metadata": {
    "collapsed": false
   }
  },
  {
   "cell_type": "code",
   "execution_count": 128,
   "outputs": [],
   "source": [
    "import numpy as np\n",
    "# gnn_reps[list(gnn_reps.keys())[0]]\n",
    "\n",
    "rep_lens = [rep[0] for rep in list(gnn_reps.values())]\n",
    "rep_lens_vanilla = [rep[0] for rep in list(vanilla_reps.values())]\n",
    "rep_lens_transformer = [rep[0] for rep in list(transformer_reps.values())]"
   ],
   "metadata": {
    "collapsed": false
   }
  },
  {
   "cell_type": "code",
   "execution_count": 129,
   "outputs": [
    {
     "name": "stdout",
     "output_type": "stream",
     "text": [
      "912 860 918\n"
     ]
    }
   ],
   "source": [
    "# Vanilla cumulative proofs much closer to GNN/Transformer than with test set, which suggests it doesn't generalise as well to unseen goals and is \"rote\" learning\n",
    "print (len(rep_lens), len(rep_lens_vanilla), len(rep_lens_transformer))\n"
   ],
   "metadata": {
    "collapsed": false
   }
  },
  {
   "cell_type": "code",
   "execution_count": 130,
   "outputs": [
    {
     "data": {
      "text/plain": "2.2790697674418605"
     },
     "execution_count": 130,
     "metadata": {},
     "output_type": "execute_result"
    }
   ],
   "source": [
    "np.mean(rep_lens_vanilla)"
   ],
   "metadata": {
    "collapsed": false
   }
  },
  {
   "cell_type": "code",
   "execution_count": 131,
   "outputs": [
    {
     "data": {
      "text/plain": "1.8607456140350878"
     },
     "execution_count": 131,
     "metadata": {},
     "output_type": "execute_result"
    }
   ],
   "source": [
    "np.mean(rep_lens)"
   ],
   "metadata": {
    "collapsed": false
   }
  },
  {
   "cell_type": "code",
   "execution_count": 132,
   "outputs": [
    {
     "data": {
      "text/plain": "2.326797385620915"
     },
     "execution_count": 132,
     "metadata": {},
     "output_type": "execute_result"
    }
   ],
   "source": [
    "np.mean(rep_lens_transformer)"
   ],
   "metadata": {
    "collapsed": false
   }
  },
  {
   "cell_type": "code",
   "execution_count": 134,
   "outputs": [
    {
     "data": {
      "text/plain": "<Figure size 640x480 with 1 Axes>",
      "image/png": "[encoded data removed]"
     },
     "metadata": {},
     "output_type": "display_data"
    },
    {
     "data": {
      "text/plain": "<Figure size 640x480 with 1 Axes>",
      "image/png": "[encoded data removed]"
     },
     "metadata": {},
     "output_type": "display_data"
    },
    {
     "data": {
      "text/plain": "<Figure size 640x480 with 1 Axes>",
      "image/png": "[encoded data removed]"
     },
     "metadata": {},
     "output_type": "display_data"
    }
   ],
   "source": [
    "plt.hist(sorted(rep_lens), bins=50, label=\"GNN\")\n",
    "plt.plot()\n",
    "plt.legend()\n",
    "plt.show()\n",
    "plt.hist(sorted(rep_lens_vanilla), bins=50, label=\"Vanilla\")\n",
    "plt.plot()\n",
    "plt.legend()\n",
    "plt.show()\n",
    "\n",
    "plt.hist(sorted(rep_lens_transformer), bins=50, label=\"Transformer\")\n",
    "plt.plot()\n",
    "plt.legend()\n",
    "plt.show()"
   ],
   "metadata": {
    "collapsed": false
   }
  },
  {
   "cell_type": "code",
   "execution_count": 331,
   "outputs": [],
   "source": [
    "with open(\"pred_set_replays.json\") as f:\n",
    "    pred_set_replays_old = json.load(f)"
   ],
   "metadata": {
    "collapsed": false
   }
  },
  {
   "cell_type": "code",
   "execution_count": 330,
   "outputs": [],
   "source": [
    "with open(\"valid_goals_shuffled.pk\", \"rb\") as f:\n",
    "    valid_goals = pickle.load(f)\n",
    "\n",
    "train_goals = valid_goals[:int(0.8 * len(valid_goals))]\n",
    "test_goals = valid_goals[int(0.8 * len(valid_goals)):]\n"
   ],
   "metadata": {
    "collapsed": false
   }
  },
  {
   "cell_type": "code",
   "execution_count": 265,
   "outputs": [],
   "source": [
    "# check all proof replay are in the training goal set\n",
    "# t = list(set([i[1][0]['content'][0]['polished']['goal'] for i in list(gnn_reps.values())]))\n",
    "# count = 0\n",
    "#\n",
    "# for g in t:\n",
    "#     if g in [goal[0] for goal in train_goals]:\n",
    "#         count +=1\n",
    "# assert count == len(gnn_reps)"
   ],
   "metadata": {
    "collapsed": false
   }
  },
  {
   "cell_type": "code",
   "execution_count": 440,
   "outputs": [],
   "source": [
    "# verify proof successes in HOL environment\n",
    "# from new_env import *\n",
    "# env = HolEnv(\"T\")\n",
    "#\n",
    "# count = 0\n",
    "# for rep in [h[1] for h in gnn_reps.values()]:\n",
    "#     try:\n",
    "#         goal = rep[0][\"content\"][0][\"plain\"][\"goal\"]\n",
    "#         goal_th = db[plain_to_polished[goal]][0]\n",
    "#         env.reset(goal)\n",
    "#         env.toggle_simpset(\"diminish\", goal_th)\n",
    "#         if check_proof(env, rep):\n",
    "#             count += 1\n",
    "#     except Exception as e:\n",
    "#         print(\"Restarting environment..\")\n",
    "#         env = HolEnv(\"T\")\n",
    "#         continue\n",
    "#\n",
    "# print (f\"{count}/{len(gnn_reps.values())} proofs successfully recreated\")\n",
    "\n",
    "# 815 / 842, changes each run so could be e.g. timeout"
   ],
   "metadata": {
    "collapsed": false
   }
  },
  {
   "cell_type": "code",
   "execution_count": 303,
   "outputs": [],
   "source": [
    "# env = HolEnv(\"T\")\n",
    "#\n",
    "# count = 0\n",
    "# for rep in [h[1] for h in vanilla_reps.values()]:\n",
    "#     try:\n",
    "#         goal = rep[0][\"content\"][0][\"plain\"][\"goal\"]\n",
    "#         env.reset(goal)\n",
    "#         if check_proof(env, rep):\n",
    "#             count += 1\n",
    "#     except Exception as e:\n",
    "#         # print(\"Restarting environment..\")\n",
    "#         env = HolEnv(\"T\")\n",
    "#         continue\n",
    "#\n",
    "# print (f\"{count}/{len(vanilla_reps.values())} proofs successfully recreated\")\n",
    "#773/811"
   ],
   "metadata": {
    "collapsed": false
   }
  },
  {
   "cell_type": "code",
   "execution_count": 268,
   "outputs": [],
   "source": [
    "# plotting proof searches\n",
    "\n",
    "# for key, value in gnn_reps.items():\n",
    "#         if value[0] > 40:\n",
    "#             print (value)\n",
    "#             draw_tree(value[1])\n",
    "#             break"
   ],
   "metadata": {
    "collapsed": false
   }
  },
  {
   "cell_type": "code",
   "execution_count": 292,
   "outputs": [],
   "source": [
    "# for key in unique_gnn_reps:\n",
    "#         if gnn_reps[key][0] > 40:\n",
    "#             print (value)\n",
    "#             draw_tree(value[1])\n",
    "\n",
    "\n",
    "# print (unique_gnn_reps[3])\n",
    "# #pred_set_th pow_def\n",
    "# #draw_tree(gnn_reps[list(unique_gnn_reps)[3]][1])\n",
    "# print (gnn_reps[list(unique_gnn_reps)[3]][1])\n",
    "# goal_polished = gnn_reps[list(unique_gnn_reps)[3]][1][0]['content'][0]['polished']['goal']"
   ],
   "metadata": {
    "collapsed": false
   }
  },
  {
   "cell_type": "code",
   "execution_count": 131,
   "outputs": [],
   "source": [
    "\n",
    "# test_hist = gnn_reps[list(unique_gnn_reps)[0]][1]\n",
    "# # reconstruct_proof(test_hist)\n",
    "# reconstruct_proof(test_hist).split(\",\")\n",
    "#\n",
    "# #get all arguments from proof history\n",
    "# hist_args = re.findall(r'\\[(.*?)]', reconstruct_proof(test_hist))\n",
    "# hist_args_ = [i for j in range(0, len(hist_args)) for i in hist_args[j].replace(\" \", \"\").split(\",\")]\n",
    "# hist_args_set = set(hist_args_)\n",
    "# print (len(hist_args_), len(set(hist_args_)))\n",
    "# len(set(hist_args_))"
   ],
   "metadata": {
    "collapsed": false
   }
  },
  {
   "cell_type": "code",
   "execution_count": 293,
   "outputs": [],
   "source": [
    "# hist_args_set"
   ],
   "metadata": {
    "collapsed": false
   }
  },
  {
   "cell_type": "code",
   "execution_count": 294,
   "outputs": [],
   "source": [
    "# goal_polished"
   ],
   "metadata": {
    "collapsed": false
   }
  },
  {
   "cell_type": "code",
   "execution_count": 295,
   "outputs": [],
   "source": [
    "# pow_def_polished = \"\"\n",
    "# for key, value in db.items():\n",
    "#     if value[0] == \"pred_set\" and value[1] == \"POW_DEF\":\n",
    "#         print (key)\n",
    "#         pow_def_polished = key"
   ],
   "metadata": {
    "collapsed": false
   }
  },
  {
   "cell_type": "code",
   "execution_count": 464,
   "outputs": [],
   "source": [
    "import torch"
   ],
   "metadata": {
    "collapsed": false
   }
  },
  {
   "cell_type": "code",
   "execution_count": 465,
   "outputs": [],
   "source": [
    "encoder_premise_orig = torch.load(\"model_checkpoints/gnn_encoder_latest_premise\")\n",
    "encoder_goal_orig = torch.load(\"model_checkpoints/gnn_encoder_latest_goal\")\n",
    "encoder_premise_online = torch.load(\"model_checkpoints/gnn_encoder_premise_e2e\")\n",
    "encoder_goal_online = torch.load(\"model_checkpoints/gnn_encoder_goal_e2e\")\n"
   ],
   "metadata": {
    "collapsed": false
   }
  },
  {
   "cell_type": "code",
   "execution_count": 466,
   "outputs": [
    {
     "name": "stderr",
     "output_type": "stream",
     "text": [
      "/home/sean/Documents/venvs/torch_env/lib/python3.8/site-packages/torch/serialization.py:786: SourceChangeWarning:\n",
      "\n",
      "source code of class 'seq2seq.models.EncoderRNN.EncoderRNN' has changed. you can retrieve the original source code by accessing the object's source attribute or set `torch.nn.Module.dump_patches = True` and use the patch tool to revert the changes.\n",
      "\n",
      "/home/sean/Documents/venvs/torch_env/lib/python3.8/site-packages/torch/serialization.py:786: SourceChangeWarning:\n",
      "\n",
      "source code of class 'torch.nn.modules.dropout.Dropout' has changed. you can retrieve the original source code by accessing the object's source attribute or set `torch.nn.Module.dump_patches = True` and use the patch tool to revert the changes.\n",
      "\n",
      "/home/sean/Documents/venvs/torch_env/lib/python3.8/site-packages/torch/serialization.py:786: SourceChangeWarning:\n",
      "\n",
      "source code of class 'torch.nn.modules.sparse.Embedding' has changed. you can retrieve the original source code by accessing the object's source attribute or set `torch.nn.Module.dump_patches = True` and use the patch tool to revert the changes.\n",
      "\n",
      "/home/sean/Documents/venvs/torch_env/lib/python3.8/site-packages/torch/serialization.py:786: SourceChangeWarning:\n",
      "\n",
      "source code of class 'torch.nn.modules.rnn.GRU' has changed. you can retrieve the original source code by accessing the object's source attribute or set `torch.nn.Module.dump_patches = True` and use the patch tool to revert the changes.\n",
      "\n",
      "/home/sean/Documents/venvs/torch_env/lib/python3.8/site-packages/torch/serialization.py:786: SourceChangeWarning:\n",
      "\n",
      "source code of class 'seq2seq.models.DecoderRNN.DecoderRNN' has changed. you can retrieve the original source code by accessing the object's source attribute or set `torch.nn.Module.dump_patches = True` and use the patch tool to revert the changes.\n",
      "\n",
      "/home/sean/Documents/venvs/torch_env/lib/python3.8/site-packages/torch/serialization.py:786: SourceChangeWarning:\n",
      "\n",
      "source code of class 'torch.nn.modules.linear.Linear' has changed. you can retrieve the original source code by accessing the object's source attribute or set `torch.nn.Module.dump_patches = True` and use the patch tool to revert the changes.\n",
      "\n"
     ]
    }
   ],
   "source": [
    "from batch_predictor import BatchPredictor\n",
    "from checkpoint import Checkpoint\n",
    "checkpoint_path = \"vanilla_enc_models/2021_02_22_16_07_03\"  # 97-98% accuracy model, up to and include probability theory\n",
    "\n",
    "\n",
    "checkpoint = Checkpoint.load(checkpoint_path)\n",
    "seq2seq = checkpoint.model\n",
    "input_vocab = checkpoint.input_vocab\n",
    "output_vocab = checkpoint.output_vocab\n",
    "\n",
    "vanilla_encoder = BatchPredictor(seq2seq, input_vocab, output_vocab)\n",
    "\n"
   ],
   "metadata": {
    "collapsed": false
   }
  },
  {
   "cell_type": "code",
   "execution_count": 467,
   "outputs": [],
   "source": [
    "import ast_def\n",
    "\n",
    "# graph_pow_def = ast_def.graph_to_torch_labelled(ast_def.goal_to_graph_labelled(pow_def_polished))\n",
    "# graph_goal = ast_def.graph_to_torch_labelled(ast_def.goal_to_graph_labelled(goal_polished))\n",
    "# ast_def.print_graph(ast_def.goal_to_graph(pow_def_polished), \"test_g.png\")"
   ],
   "metadata": {
    "collapsed": false
   }
  },
  {
   "cell_type": "code",
   "execution_count": 468,
   "outputs": [],
   "source": [
    "device = torch.device(\"cuda:0\" if torch.cuda.is_available() else \"cpu\")"
   ],
   "metadata": {
    "collapsed": false
   }
  },
  {
   "cell_type": "code",
   "execution_count": 23,
   "outputs": [],
   "source": [
    "# pow_rep_e2e = torch.unsqueeze(encoder_premise_online.encode_and_pool(graph_pow_def.x.to(device), graph_pow_def.x.to(device), graph_pow_def.edge_index.to(device), torch.zeros(len(graph_pow_def.x)).long().to(device)), 1)\n",
    "#\n",
    "# pow_rep_orig = torch.unsqueeze(encoder_premise_orig.encode_and_pool(graph_pow_def.x.to(device), graph_pow_def.x.to(device), graph_pow_def.edge_index.to(device), torch.zeros(len(graph_pow_def.x)).long().to(device)), 1)\n",
    "#\n",
    "# goal_rep_e2e = torch.unsqueeze(encoder_goal_online.encode_and_pool(graph_goal.x.to(device), graph_goal.x.to(device), graph_goal.edge_index.to(device), torch.zeros(len(graph_goal.x)).long().to(device)), 1)\n",
    "#\n",
    "# goal_rep_orig = torch.unsqueeze(encoder_goal_orig.encode_and_pool(graph_goal.x.to(device), graph_goal.x.to(device), graph_goal.edge_index.to(device), torch.zeros(len(graph_goal.x)).long().to(device)), 1)"
   ],
   "metadata": {
    "collapsed": false
   }
  },
  {
   "cell_type": "code",
   "execution_count": 24,
   "outputs": [],
   "source": [
    "# out_ = vanilla_encoder.encode([goal_polished.split()])\n",
    "# vanilla_goal_rep = torch.cat((out_[0][0], out_[0][1]), dim=1)\n",
    "#\n",
    "# out_ = vanilla_encoder.encode([pow_def_polished.split()])\n",
    "# vanilla_pow_rep = torch.cat((out_[0][0], out_[0][1]), dim=1)\n",
    "#torch.cat(torch.FloatTensor([out_[0],out_[1]]), dim=1).squeeze(0)\n",
    "#pow_rep_vanilla = torch.cat(out_.split(1), dim=2).squeeze(0)"
   ],
   "metadata": {
    "collapsed": false
   }
  },
  {
   "cell_type": "code",
   "execution_count": 469,
   "outputs": [],
   "source": [
    "def gen_encoded_proof_data(history, encoder_prem, encoder_g):\n",
    "    polished_goal = history[0][\"content\"][0][\"polished\"][\"goal\"]\n",
    "    allowed_theories = list(set(re.findall(r'C\\$(\\w+)\\$', polished_goal)))\n",
    "    goal_theory = db[polished_goal][0]\n",
    "\n",
    "    #get proof args\n",
    "    hist_args = re.findall(r'\\[(.*?)]', reconstruct_proof(history))\n",
    "    hist_args_ = [i for j in range(0, len(hist_args)) for i in hist_args[j].replace(\" \", \"\").split(\",\")]\n",
    "    hist_args_set = set(hist_args_)\n",
    "\n",
    "    # for x in [arg.split(\"Theory.\") for arg in hist_args_set]:\n",
    "    allowed_arguments_ids = []\n",
    "    candidate_args = []\n",
    "    labels = []\n",
    "    labels_th = []\n",
    "\n",
    "    for i,t in enumerate(db):\n",
    "        if db[t][0] in allowed_theories and (db[t][0] != goal_theory or int(db[t][2]) < int(db[polished_goal][2])):\n",
    "            allowed_arguments_ids.append(i)\n",
    "            candidate_args.append(t)\n",
    "\n",
    "            #check if allowed candidate was used in the proof\n",
    "            if db[t][0] + \"Theory.\" + db[t][1] in hist_args_set:\n",
    "                labels.append(db[t][0] + \"Theory.\" + db[t][1])\n",
    "            else:\n",
    "                labels.append(\"Not used\")\n",
    "\n",
    "            labels_th.append(db[t][0])\n",
    "\n",
    "\n",
    "\n",
    "\n",
    "    candidate_graphs = [ast_def.graph_to_torch_labelled(ast_def.goal_to_graph_labelled(candidate)) for candidate in candidate_args]\n",
    "    loader = DataLoader(candidate_graphs, batch_size = len(candidate_graphs))\n",
    "\n",
    "    batch = next(iter(loader))\n",
    "\n",
    "    # representations = torch.unsqueeze(encoder.forward(batch.x.to(device), batch.edge_indegraph_pow_defdevice), batch.batch.to(device)), 1)\n",
    "    #encode_and_pool for digae model\n",
    "    representations = encoder_prem.encode_and_pool(batch.x.to(device), batch.x.to(device), batch.edge_index.to(device), batch.batch.to(device))\n",
    "\n",
    "    goal_graph = ast_def.graph_to_torch_labelled(ast_def.goal_to_graph_labelled(polished_goal))\n",
    "\n",
    "    goal_rep_e2e = encoder_g.encode_and_pool(goal_graph.x.to(device), goal_graph.x.to(device), goal_graph.edge_index.to(device), torch.zeros(len(goal_graph.x)).long().to(device))\n",
    "\n",
    "    return representations, goal_rep_e2e, candidate_args, labels, labels_th\n",
    "\n",
    "       # len(set(hist_args_))\n",
    "    #%%\n"
   ],
   "metadata": {
    "collapsed": false
   }
  },
  {
   "cell_type": "code",
   "execution_count": 135,
   "outputs": [],
   "source": [
    "# candidate_reps, goal_rep_e2e, candidate_args, labels, labels_th = gen_encoded_proof_data(test_hist, encoder_premise_online, encoder_goal_online)\n",
    "#verify matches with proof\n",
    "# reconstruct_proof(test_hist)\n",
    "# [db[candidate_args[i]] for i in range(0, len(candidate_args))if labels[i] == 1]\n",
    "# [candidate_args[i] for i in range(0, len(candidate_args))if labels[i] == 1]\n"
   ],
   "metadata": {
    "collapsed": false
   }
  },
  {
   "cell_type": "code",
   "execution_count": 296,
   "outputs": [],
   "source": [
    "# print (test_hist)"
   ],
   "metadata": {
    "collapsed": false
   }
  },
  {
   "cell_type": "markdown",
   "source": [],
   "metadata": {
    "collapsed": false
   }
  },
  {
   "cell_type": "code",
   "execution_count": 470,
   "outputs": [],
   "source": [
    "from sklearn.manifold import TSNE\n",
    "\n",
    "# n_components = 2\n",
    "#\n",
    "# tsne = TSNE(n_components)\n",
    "# print (candidate_reps.shape, goal_rep_e2e.shape)\n",
    "# all_reps = torch.cat((candidate_reps, goal_rep_e2e), dim=0)\n",
    "# labels.append(\"Goal\")\n",
    "# labels_th.append(\"Goal\")\n",
    "# candidate_reps_np = all_reps.detach().cpu().numpy()\n",
    "# print (candidate_reps_np.shape)\n",
    "# tsne_result = tsne.fit_transform(candidate_reps_np)\n",
    "#\n",
    "# print (tsne_result.shape)"
   ],
   "metadata": {
    "collapsed": false
   }
  },
  {
   "cell_type": "code",
   "execution_count": 297,
   "outputs": [],
   "source": [
    "# set(labels_th)"
   ],
   "metadata": {
    "collapsed": false
   }
  },
  {
   "cell_type": "code",
   "execution_count": 471,
   "outputs": [],
   "source": [
    "# helper to convert plain to polished\n",
    "plain_to_polished = {}\n",
    "\n",
    "for k,v in db.items():\n",
    "    plain_to_polished[v[-1]]  = k\n",
    "\n",
    "\n"
   ],
   "metadata": {
    "collapsed": false
   }
  },
  {
   "cell_type": "code",
   "execution_count": 473,
   "outputs": [],
   "source": [
    "#some statistics on what theorems were proved in the replay database:\n",
    "\n",
    "thms = []\n",
    "thm_count = {}\n",
    "\n",
    "\n",
    "\n",
    "for goal in gnn_reps.keys():\n",
    "    #some don't match for some reason, so handle by skipping\n",
    "    try:\n",
    "        thm = db[plain_to_polished[goal]][0]\n",
    "        if thm not in thms:\n",
    "            thms.append(thm)\n",
    "            thm_count[thm] = 1\n",
    "        else:\n",
    "            thm_count[thm] += 1\n",
    "    except:\n",
    "        continue\n",
    "\n"
   ],
   "metadata": {
    "collapsed": false
   }
  },
  {
   "cell_type": "code",
   "execution_count": 474,
   "outputs": [
    {
     "data": {
      "text/plain": "{'rich_list': 166,\n 'prim_rec': 21,\n 'relation': 92,\n 'sat': 21,\n 'pred_set': 286,\n 'list': 170,\n 'numpair': 10,\n 'marker': 6,\n 'normalForms': 2,\n 'pair': 33,\n 'while': 10,\n 'num': 2,\n 'cardinal': 1,\n 'sum': 15,\n 'numeral': 3}"
     },
     "execution_count": 474,
     "metadata": {},
     "output_type": "execute_result"
    }
   ],
   "source": [
    "thm_count"
   ],
   "metadata": {
    "collapsed": false
   }
  },
  {
   "cell_type": "code",
   "execution_count": 475,
   "outputs": [
    {
     "name": "stdout",
     "output_type": "stream",
     "text": [
      "2 9\n",
      "2 2\n",
      "2 3\n",
      "2 2\n",
      "2 4\n",
      "2 3\n",
      "3 7\n",
      "2 2\n",
      "2 2\n",
      "2 2\n",
      "2 10\n",
      "2 3\n",
      "2 2\n",
      "2 4\n",
      "2 3\n",
      "2 3\n",
      "2 3\n",
      "2 6\n",
      "3 3\n",
      "2 6\n",
      "2 4\n",
      "2 2\n",
      "2 5\n",
      "2 2\n",
      "2 3\n",
      "2 2\n",
      "2 2\n",
      "3 5\n",
      "2 7\n",
      "2 3\n",
      "2 3\n",
      "2 4\n",
      "2 4\n",
      "2 2\n",
      "2 2\n",
      "2 4\n",
      "2 5\n",
      "2 2\n",
      "2 3\n",
      "2 2\n",
      "2 3\n",
      "2 2\n",
      "3 8\n",
      "2 7\n",
      "2 3\n",
      "3 8\n",
      "3 4\n",
      "2 3\n",
      "2 3\n",
      "2 5\n",
      "2 4\n",
      "2 2\n",
      "2 2\n",
      "2 2\n",
      "2 3\n",
      "2 2\n",
      "3 6\n",
      "2 2\n",
      "2 6\n",
      "2 5\n",
      "2 3\n",
      "2 2\n",
      "2 5\n",
      "2 3\n",
      "2 3\n",
      "3 4\n",
      "2 20\n",
      "2 2\n",
      "2 2\n",
      "3 5\n",
      "2 7\n",
      "4 5\n",
      "2 2\n",
      "3 4\n",
      "2 3\n",
      "2 3\n",
      "2 9\n",
      "3 4\n",
      "2 3\n",
      "4 6\n",
      "3 11\n",
      "2 7\n",
      "2 3\n",
      "2 5\n",
      "4 6\n",
      "2 3\n",
      "2 4\n",
      "2 5\n",
      "2 4\n",
      "3 4\n",
      "2 3\n",
      "2 7\n",
      "3 4\n",
      "3 4\n",
      "2 4\n",
      "2 5\n",
      "2 8\n",
      "3 4\n",
      "3 3\n",
      "3 5\n",
      "3 5\n",
      "2 4\n",
      "2 3\n",
      "2 3\n",
      "2 3\n",
      "3 7\n",
      "2 11\n",
      "2 3\n",
      "3 9\n",
      "2 5\n",
      "3 5\n",
      "2 3\n",
      "2 3\n",
      "2 9\n",
      "2 6\n",
      "2 4\n",
      "2 2\n",
      "2 9\n",
      "2 2\n",
      "2 5\n",
      "2 3\n",
      "3 11\n",
      "3 6\n",
      "3 4\n",
      "2 5\n",
      "2 4\n",
      "3 5\n",
      "2 4\n",
      "3 6\n",
      "2 2\n",
      "3 4\n",
      "3 13\n",
      "2 3\n",
      "2 4\n",
      "2 3\n",
      "3 5\n",
      "2 5\n",
      "2 2\n",
      "3 6\n",
      "2 3\n",
      "3 4\n",
      "3 4\n",
      "2 5\n",
      "2 5\n",
      "3 6\n",
      "2 6\n",
      "2 6\n",
      "3 5\n",
      "2 9\n",
      "3 6\n",
      "2 9\n",
      "3 9\n",
      "3 8\n",
      "2 6\n",
      "2 4\n",
      "2 7\n",
      "3 4\n",
      "2 2\n",
      "2 4\n",
      "2 8\n",
      "2 4\n",
      "3 5\n",
      "2 4\n",
      "2 5\n",
      "3 8\n",
      "3 7\n",
      "4 9\n",
      "3 3\n",
      "2 4\n",
      "2 4\n",
      "2 4\n",
      "3 5\n",
      "2 4\n",
      "2 7\n",
      "3 4\n",
      "4 2\n",
      "2 6\n",
      "3 7\n",
      "2 5\n",
      "3 8\n",
      "2 4\n",
      "4 7\n",
      "3 4\n",
      "2 4\n",
      "3 7\n",
      "2 3\n",
      "3 10\n",
      "2 12\n",
      "3 7\n",
      "3 5\n",
      "3 8\n",
      "2 2\n",
      "3 5\n",
      "2 8\n",
      "3 4\n",
      "2 6\n",
      "3 6\n",
      "2 3\n",
      "2 6\n",
      "4 10\n",
      "3 6\n",
      "2 6\n",
      "3 11\n",
      "3 12\n",
      "2 8\n",
      "3 12\n",
      "3 5\n",
      "2 8\n",
      "2 8\n",
      "2 5\n",
      "2 7\n",
      "3 11\n",
      "3 6\n",
      "3 5\n",
      "2 2\n",
      "3 9\n",
      "3 13\n",
      "3 11\n",
      "3 5\n",
      "4 16\n",
      "3 10\n",
      "2 6\n",
      "3 5\n",
      "4 12\n",
      "2 4\n",
      "5 11\n",
      "2 4\n",
      "3 4\n",
      "2 3\n",
      "3 7\n",
      "4 8\n",
      "4 7\n",
      "3 6\n",
      "3 6\n",
      "3 12\n",
      "2 4\n",
      "2 11\n",
      "4 12\n",
      "3 11\n",
      "2 7\n",
      "3 7\n",
      "3 4\n",
      "3 6\n",
      "4 4\n",
      "4 8\n",
      "2 6\n",
      "3 7\n",
      "3 12\n",
      "3 8\n",
      "3 14\n",
      "3 5\n",
      "4 6\n",
      "4 11\n",
      "4 7\n",
      "3 9\n",
      "4 4\n",
      "2 3\n",
      "3 15\n",
      "2 2\n",
      "3 6\n",
      "4 7\n",
      "2 9\n",
      "4 11\n",
      "2 7\n",
      "3 8\n",
      "3 17\n",
      "3 11\n",
      "3 9\n",
      "4 10\n",
      "2 4\n",
      "3 12\n",
      "4 8\n",
      "6 10\n",
      "4 16\n",
      "4 7\n",
      "3 4\n",
      "3 6\n",
      "4 9\n",
      "4 6\n",
      "4 10\n",
      "3 8\n",
      "5 11\n",
      "4 14\n",
      "3 10\n",
      "2 2\n",
      "3 5\n",
      "5 15\n",
      "4 9\n",
      "2 20\n",
      "5 10\n",
      "3 10\n",
      "5 10\n",
      "4 7\n",
      "3 7\n",
      "3 9\n",
      "3 8\n",
      "5 17\n",
      "2 3\n",
      "4 8\n",
      "6 11\n",
      "3 6\n",
      "4 8\n",
      "5 14\n",
      "7 7\n",
      "4 7\n",
      "4 13\n",
      "2 5\n",
      "9 20\n",
      "6 8\n",
      "5 5\n",
      "4 8\n",
      "3 6\n",
      "2 4\n",
      "3 11\n",
      "2 7\n",
      "2 9\n",
      "5 10\n",
      "4 9\n",
      "6 3\n"
     ]
    }
   ],
   "source": [
    "for k,v in gnn_reps.items():\n",
    "    try:\n",
    "        if k in pred_set_replays_old.keys():\n",
    "            print (len(v[1]), min([len(i[0]) for i in pred_set_replays_old[k]]))\n",
    "    except:\n",
    "        continue\n"
   ],
   "metadata": {
    "collapsed": false
   }
  },
  {
   "cell_type": "code",
   "execution_count": 476,
   "outputs": [],
   "source": [
    "test_rep = gnn_reps[list(gnn_reps.keys())[14]]"
   ],
   "metadata": {
    "collapsed": false
   }
  },
  {
   "cell_type": "code",
   "execution_count": 477,
   "outputs": [
    {
     "data": {
      "text/plain": "'Induct_on `y` >- (rw[listTheory.EVERY_MAP, listTheory.CARD_LIST_TO_SET_ALL_DISTINCT, listTheory.MEM_SPLIT, listTheory.FIND_def, listTheory.DROP_GENLIST]) >- (rpt (pop_assum mp_tac) >> rpt strip_tac >> rw[listTheory.splitAtPki_APPEND, rich_listTheory.EVERY2_APPEND, boolTheory.AND_DEF, listTheory.MEM_SET_TO_LIST, listTheory.TL_DEF])'"
     },
     "execution_count": 477,
     "metadata": {},
     "output_type": "execute_result"
    }
   ],
   "source": [
    "reconstruct_proof(gnn_reps[list(gnn_reps.keys())[14]][1])\n"
   ],
   "metadata": {
    "collapsed": false
   }
  },
  {
   "cell_type": "code",
   "execution_count": 478,
   "outputs": [
    {
     "data": {
      "text/plain": "[('∀(x :α) (y :α list). FRONT (x::y) ≼ x::y', 'Induct_on `y`'),\n ('∀(x :α). FRONT [x] ≼ [x]',\n  'rw[listTheory.EVERY_MAP, listTheory.CARD_LIST_TO_SET_ALL_DISTINCT, listTheory.MEM_SPLIT, listTheory.FIND_def, listTheory.DROP_GENLIST]'),\n ('∀(h :α) (x :α). FRONT (x::h::(y :α list)) ≼ x::h::y',\n  'rw[listTheory.splitAtPki_APPEND, rich_listTheory.EVERY2_APPEND, boolTheory.AND_DEF, listTheory.MEM_SET_TO_LIST, listTheory.TL_DEF]')]"
     },
     "execution_count": 478,
     "metadata": {},
     "output_type": "execute_result"
    }
   ],
   "source": [
    "extract_proof(test_rep[1])"
   ],
   "metadata": {
    "collapsed": false
   }
  },
  {
   "cell_type": "code",
   "execution_count": 479,
   "outputs": [
    {
     "data": {
      "text/plain": "[[{'content': [{'polished': {'assumptions': [],\n      'goal': '@ C$bool$ ! | Vs @ @ C$min$ ==> @ @ C$min$ = Vs C$pred_set$ UNIV @ C$bool$ ! | Vv @ @ C$bool$ IN Vv Vs'},\n     'plain': {'assumptions': [],\n      'goal': '∀(s :α -> bool). s = 𝕌(:α) ⇒ ∀(v :α). v ∈ s'},\n     'origin_fringe': 0}],\n   'parent': None,\n   'goal': None,\n   'by_tactic': '',\n   'reward': None},\n  {'content': [{'polished': {'assumptions': ['@ C$bool$ ! | Vx @ @ C$min$ = @ @ C$bool$ IN Vx Vs @ @ C$bool$ IN Vx C$pred_set$ UNIV'],\n      'goal': '@ @ C$bool$ IN Vv C$pred_set$ UNIV'},\n     'plain': {'assumptions': ['∀(x :α). x ∈ (s :α -> bool) ⇔ x ∈ 𝕌(:α)'],\n      'goal': '(v :α) ∈ 𝕌(:α)'},\n     'origin_fringe': 1}],\n   'parent': 0,\n   'goal': 0,\n   'by_tactic': 'rw[boolTheory.RIGHT_OR_EXISTS_THM, pred_setTheory.MEMBER_NOT_EMPTY, boolTheory.OR_CLAUSES, pred_setTheory.EXTENSION, boolTheory.FUN_EQ_THM]',\n   'reward': 0.1},\n  {'content': [{'polished': {'assumptions': ['@ C$bool$ ! | Vx @ @ C$min$ = @ @ C$bool$ IN Vx Vs @ @ C$bool$ IN Vx | Vx C$bool$ T'],\n      'goal': '@ @ C$bool$ IN Vv | Vx C$bool$ T'},\n     'plain': {'assumptions': ['∀(x :α). x ∈ (s :α -> bool) ⇔ x ∈ (λ(x :α). T)'],\n      'goal': '(v :α) ∈ (λ(x :α). T)'},\n     'origin_fringe': 2}],\n   'parent': 1,\n   'goal': 0,\n   'by_tactic': 'fs[pred_setTheory.UNIV_DEF, pred_setTheory.UNIV_DEF, pred_setTheory.UNIV_DEF, pred_setTheory.UNIV_DEF, pred_setTheory.UNIV_DEF]',\n   'reward': 0.1},\n  {'content': [],\n   'parent': 2,\n   'goal': 0,\n   'by_tactic': 'fs[pred_setTheory.EXTENSION, pred_setTheory.IN_ABS, pred_setTheory.IN_ABS, pred_setTheory.IN_ABS, pred_setTheory.EXTENSION]',\n   'reward': 5}],\n 5.1]"
     },
     "execution_count": 479,
     "metadata": {},
     "output_type": "execute_result"
    }
   ],
   "source": [
    "pred_set_replays_old[list(pred_set_replays_old.keys())[0]][0]"
   ],
   "metadata": {
    "collapsed": false
   }
  },
  {
   "cell_type": "code",
   "execution_count": 501,
   "outputs": [],
   "source": [
    "all_premises = []\n",
    "premise_labels = []\n",
    "premise_idx = []\n",
    "for i, (key, value) in enumerate(db.items()):\n",
    "    if value[0] == \"pred_set\" or value[0] == \"relation\" or value[0] == \"list\":# or value[0] == \"rich_list\" or value[0] == \"prim_rec\": #or value[0] == \"pred_set\" or value[0] == \"set\":\n",
    "        all_premises.append(key)\n",
    "        premise_labels.append(value[0])\n",
    "        premise_idx.append(i)\n",
    "\n",
    "all_premise_graphs = [ast_def.graph_to_torch_labelled(ast_def.goal_to_graph_labelled(premise)) for premise in all_premises]\n",
    "\n",
    "loader = DataLoader(all_premise_graphs, batch_size = len(all_premise_graphs))\n",
    "\n",
    "batch = next(iter(loader))\n",
    "\n",
    "# representations = torch.unsqueeze(encoder.forward(batch.x.to(device), batch.edge_indegraph_pow_defdevice), batch.batch.to(device)), 1)\n",
    "#encode_and_pool for digae model\n",
    "premise_representations = encoder_premise_online.encode_and_pool(batch.x.to(device), batch.x.to(device), batch.edge_index.to(device), batch.batch.to(device))\n",
    "\n",
    "\n"
   ],
   "metadata": {
    "collapsed": false
   }
  },
  {
   "cell_type": "code",
   "execution_count": 502,
   "outputs": [],
   "source": [
    "vanilla_db_encs = torch.load(\"encoded_include_probability.pt\")"
   ],
   "metadata": {
    "collapsed": false
   }
  },
  {
   "cell_type": "code",
   "execution_count": 503,
   "outputs": [],
   "source": [
    "vanilla_premise_reps = torch.index_select(vanilla_db_encs, 0, torch.tensor(premise_idx))"
   ],
   "metadata": {
    "collapsed": false
   }
  },
  {
   "cell_type": "code",
   "execution_count": 504,
   "outputs": [],
   "source": [
    "from sklearn.decomposition import PCA\n",
    "import plotly.express as px\n",
    "#3d\n",
    "def plot_reps(reps, labels, n_components, graph_name):\n",
    "\n",
    "    # pca = PCA(n_components)\n",
    "    # tsne_result = pca.fit_transform(reps.detach().cpu().numpy())\n",
    "\n",
    "    tsne = TSNE(n_components)\n",
    "    tsne_result = tsne.fit_transform(reps.detach().cpu().numpy())\n",
    "\n",
    "    color_dict = {}\n",
    "\n",
    "    i = 0\n",
    "    for label in set(labels):\n",
    "        print (label, i)\n",
    "        color_dict[label] = i\n",
    "        i += 1\n",
    "\n",
    "    color_dict[\"POI1\"] = i + 1\n",
    "    color_dict[\"POI2\"] = i + 1\n",
    "    color_dict[\"POI3\"] = i + 1\n",
    "    color_dict[\"POI4\"] = i + 1\n",
    "\n",
    "    if n_components == 3:\n",
    "\n",
    "        df_list = []\n",
    "        for i, premise in enumerate(all_premises):\n",
    "            # set custom markers for points of interest\n",
    "            if i == 1255 or i == 1256 or i == 1290 or i == 1291:\n",
    "                labels[i] = \"POI1\"\n",
    "            if i == 403 or i == 418:\n",
    "                labels[i] = \"POI2\"\n",
    "            if i == 497 or i == 387:\n",
    "                labels[i] = \"POI3\"\n",
    "            if i == 1097 or i == 810 or i == 591:\n",
    "                labels[i] = \"POI4\"\n",
    "            df_list.append({'Premise': db[premise][-1], 'X': tsne_result[i,0], \"Y\": tsne_result[i,1], \"Z\": tsne_result[i,2], \"Thm\": premise_labels[i], \"Idx\": i})\n",
    "\n",
    "        df = pd.DataFrame.from_records(df_list)\n",
    "\n",
    "\n",
    "        fig = px.scatter_3d(df, x = 'X', y = 'Y', z = 'Z', color = 'Thm', hover_name = \"Premise\", hover_data = [\"Thm\", \"Idx\"])\n",
    "        fig.update_traces(marker_size = 3)\n",
    "\n",
    "        fig.write_html(graph_name+\".html\", auto_open=True)\n",
    "        # ax = plt.figure(figsize=(16,10)).gca(projection='3d')\n",
    "        # scatter = ax.scatter(xs=tsne_result[:,0], ys=tsne_result[:,1], zs=tsne_result[:,2], c = [color_dict[l] for l in labels])#, cmap=\"tab10\")\n",
    "\n",
    "    else:\n",
    "        ax = plt.figure(figsize=(16,10)).gca()\n",
    "        scatter = ax.scatter(x = tsne_result[:,0], y = tsne_result[:,1], c = [color_dict[l] for l in labels])#, label = labels_th)\n",
    "\n",
    "        legend1 = ax.legend(*scatter.legend_elements(),\n",
    "                        loc=\"lower left\", title=\"Classes\")\n",
    "        ax.add_artist(legend1)\n",
    "\n",
    "        plt.show()\n",
    "\n",
    "    return\n",
    "\n"
   ],
   "metadata": {
    "collapsed": false
   }
  },
  {
   "cell_type": "code",
   "execution_count": 505,
   "outputs": [
    {
     "name": "stderr",
     "output_type": "stream",
     "text": [
      "/home/sean/Documents/venvs/torch_env/lib/python3.8/site-packages/sklearn/manifold/_t_sne.py:800: FutureWarning:\n",
      "\n",
      "The default initialization in TSNE will change from 'random' to 'pca' in 1.2.\n",
      "\n",
      "/home/sean/Documents/venvs/torch_env/lib/python3.8/site-packages/sklearn/manifold/_t_sne.py:810: FutureWarning:\n",
      "\n",
      "The default learning rate in TSNE will change from 200.0 to 'auto' in 1.2.\n",
      "\n"
     ]
    },
    {
     "name": "stdout",
     "output_type": "stream",
     "text": [
      "list 0\n",
      "relation 1\n",
      "pred_set 2\n"
     ]
    }
   ],
   "source": [
    "plot_reps(vanilla_premise_reps, premise_labels, 3, \"vanilla_premise_rep_graph_1\")"
   ],
   "metadata": {
    "collapsed": false
   }
  },
  {
   "cell_type": "code",
   "execution_count": 506,
   "outputs": [
    {
     "name": "stderr",
     "output_type": "stream",
     "text": [
      "/home/sean/Documents/venvs/torch_env/lib/python3.8/site-packages/sklearn/manifold/_t_sne.py:800: FutureWarning:\n",
      "\n",
      "The default initialization in TSNE will change from 'random' to 'pca' in 1.2.\n",
      "\n",
      "/home/sean/Documents/venvs/torch_env/lib/python3.8/site-packages/sklearn/manifold/_t_sne.py:810: FutureWarning:\n",
      "\n",
      "The default learning rate in TSNE will change from 200.0 to 'auto' in 1.2.\n",
      "\n"
     ]
    },
    {
     "name": "stdout",
     "output_type": "stream",
     "text": [
      "POI1 0\n",
      "POI3 1\n",
      "pred_set 2\n",
      "POI2 3\n",
      "list 4\n",
      "relation 5\n",
      "POI4 6\n"
     ]
    }
   ],
   "source": [
    "plot_reps(premise_representations, premise_labels, 3, \"gnn_premise_rep_graph_1\")"
   ],
   "metadata": {
    "collapsed": false
   }
  },
  {
   "cell_type": "code",
   "execution_count": 342,
   "outputs": [],
   "source": [
    "import itertools\n",
    "\n",
    "def union_prob(probs):\n",
    "    n = len(probs)\n",
    "    result = 0\n",
    "    for subset_size in range(1, n+1):\n",
    "        subset = itertools.combinations(probs, subset_size)\n",
    "        for s in subset:\n",
    "            # print (s)\n",
    "            p = 1\n",
    "            for prob in s:\n",
    "                # independence assumption\n",
    "                p *= prob\n",
    "            if subset_size % 2 == 1:\n",
    "                result += p\n",
    "            else:\n",
    "                result -= p\n",
    "    return result\n",
    "\n"
   ],
   "metadata": {
    "collapsed": false
   }
  },
  {
   "cell_type": "code",
   "execution_count": 328,
   "outputs": [
    {
     "name": "stdout",
     "output_type": "stream",
     "text": [
      "(0,)\n",
      "(0.8,)\n",
      "(0, 0.8)\n"
     ]
    },
    {
     "data": {
      "text/plain": "0.8"
     },
     "execution_count": 328,
     "metadata": {},
     "output_type": "execute_result"
    }
   ],
   "source": [
    "union_prob([0, 0.8])"
   ],
   "metadata": {
    "collapsed": false
   }
  },
  {
   "cell_type": "code",
   "execution_count": 345,
   "outputs": [
    {
     "data": {
      "text/plain": "<Figure size 640x480 with 2 Axes>",
      "image/png": "[encoded data removed]"
     },
     "metadata": {},
     "output_type": "display_data"
    },
    {
     "data": {
      "text/plain": "1.0"
     },
     "execution_count": 345,
     "metadata": {},
     "output_type": "execute_result"
    }
   ],
   "source": [
    "# check function works with contour plot\n",
    "import matplotlib.pyplot as plt\n",
    "import numpy as np\n",
    "\n",
    "def plot_contour(x, y, values):\n",
    "    X, Y = np.meshgrid(x, y)\n",
    "    plt.contourf(X, Y, values)\n",
    "    plt.colorbar()\n",
    "    plt.show()\n",
    "\n",
    "\n",
    "x = np.linspace(0, 1, 100)\n",
    "y = np.linspace(0, 1, 100)\n",
    "\n",
    "X, Y = np.meshgrid(x, y)\n",
    "values = [[union_prob([x_i,y_i]) for y_i in y] for x_i in x]\n",
    "plot_contour(x,y,values)\n",
    "# looks correct!"
   ],
   "metadata": {
    "collapsed": false
   }
  }
 ],
 "metadata": {
  "kernelspec": {
   "name": "torch_env",
   "language": "python",
   "display_name": "torch_env"
  },
  "language_info": {
   "codemirror_mode": {
    "name": "ipython",
    "version": 2
   },
   "file_extension": ".py",
   "mimetype": "text/x-python",
   "name": "python",
   "nbconvert_exporter": "python",
   "pygments_lexer": "ipython2",
   "version": "2.7.6"
  }
 },
 "nbformat": 4,
 "nbformat_minor": 0
}
